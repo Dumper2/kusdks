{
  "nbformat": 4,
  "nbformat_minor": 0,
  "metadata": {
    "colab": {
      "private_outputs": true,
      "provenance": [],
      "gpuType": "T4"
    },
    "kernelspec": {
      "name": "python3",
      "display_name": "Python 3"
    },
    "language_info": {
      "name": "python"
    },
    "accelerator": "GPU"
  },
  "cells": [
    {
      "cell_type": "code",
      "source": [
        "!git clone https://github.com/IDEA-Research/DINO.git\n",
        "%cd DINO"
      ],
      "metadata": {
        "id": "w01UV-BTOnQj"
      },
      "execution_count": null,
      "outputs": []
    },
    {
      "cell_type": "code",
      "source": [
        "pip install -r requirements.txt"
      ],
      "metadata": {
        "id": "o-kiDBKVOpDO"
      },
      "execution_count": null,
      "outputs": []
    },
    {
      "cell_type": "code",
      "source": [
        "!cd models/dino/ops && python setup.py build install && python test.py && cd ../../..\n",
        "!python test.py\n",
        "!cd ../../.."
      ],
      "metadata": {
        "id": "5Y1gK8FbOsAc"
      },
      "execution_count": null,
      "outputs": []
    },
    {
      "cell_type": "code",
      "source": [
        "!bash scripts/DINO_train.sh /content/drive/MyDrive/COCODIR --pretrain_model_path /path/to/a/pretrianed/resnet50"
      ],
      "metadata": {
        "id": "r86Ab4MqO0Dj"
      },
      "execution_count": null,
      "outputs": []
    },
    {
      "cell_type": "code",
      "source": [
        "import torch\n",
        "\n",
        "# Assuming `model` is your DINO model\n",
        "def save_weights(model, filename='dino_final_weights.pth'):\n",
        "    \"\"\"Save the model's state dict (weights) after training is done.\"\"\"\n",
        "    torch.save(model.state_dict(), filename)\n",
        "    print(f\"Model weights saved to {filename}\")\n",
        "\n",
        "# Example usage after training completes\n",
        "model = dino  # Your trained DINO model instance\n",
        "\n",
        "# Call this function after the training process finishes\n",
        "save_weights(model, 'dino_final_weights.pth')"
      ],
      "metadata": {
        "id": "gP6QNAuQP5cZ"
      },
      "execution_count": null,
      "outputs": []
    },
    {
      "cell_type": "code",
      "source": [
        "import torch\n",
        "\n",
        "# Assuming 'model' is your trained model\n",
        "torch.save(dino.state_dict(), 'model_weights.pth')\n",
        "\n",
        "\n",
        "\n"
      ],
      "metadata": {
        "id": "qcqiI2r5L7p6"
      },
      "execution_count": null,
      "outputs": []
    },
    {
      "cell_type": "code",
      "source": [],
      "metadata": {
        "id": "XQ8l8yqmMIjZ"
      },
      "execution_count": null,
      "outputs": []
    }
  ]
}